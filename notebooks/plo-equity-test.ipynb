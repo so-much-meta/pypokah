{
 "cells": [
  {
   "cell_type": "code",
   "execution_count": 101,
   "metadata": {},
   "outputs": [
    {
     "name": "stdout",
     "output_type": "stream",
     "text": [
      "Loading...\n",
      "Done loading\n",
      "\n",
      "Completed 792 in 0.0531001091003418 seconds\n",
      "14915.223592165878 hands / second\n",
      "\n"
     ]
    },
    {
     "data": {
      "text/plain": [
       "[('Ks Kh Jh Ts', 0.5063131313131313),\n",
       " ('Ad Jd 8s 4c', 0.16161616161616163),\n",
       " ('9s 8d 4s 2c', 0.13573232323232323),\n",
       " ('Qs 9h 5d 3s', 0.09217171717171717),\n",
       " ('As Ac 9c 3h', 0.07575757575757576),\n",
       " ('9d 8h 8c 6s', 0.028409090909090908),\n",
       " ('Th 7s 5c 4d', 0.0),\n",
       " ('Qh 6h 6d 3d', 0.0),\n",
       " ('Ah 7h 5s 4h', 0.0),\n",
       " ('Tc 7d 6c 3c', 0.0)]"
      ]
     },
     "metadata": {},
     "output_type": "display_data"
    }
   ],
   "source": [
    "import sys\n",
    "print(\"Loading...\")\n",
    "import pypokah as pok\n",
    "print(\"Done loading\")\n",
    "import time\n",
    "import itertools\n",
    "import math\n",
    "import random\n",
    "\n",
    "def deal(deck, count):\n",
    "    result = deck[-count:]\n",
    "    del deck[-count:]\n",
    "    return result\n",
    "\n",
    "start = time.time()\n",
    "\n",
    "deck = list(range(1,53))\n",
    "random.shuffle(deck)\n",
    "\n",
    "pockets = []\n",
    "for i in range(10):\n",
    "    pockets.append(deal(deck,4))\n",
    "\n",
    "cumscores = [0 for _ in pockets]\n",
    "\n",
    "for j in range(1):\n",
    "    for i, runout in enumerate(itertools.combinations(deck, 5)):\n",
    "        values = [pok.evalplo(runout, pocket) for pocket in pockets]\n",
    "        best = max(values)\n",
    "        scores = [v==best for v in values]\n",
    "        tie_count = sum(scores)\n",
    "        if tie_count:\n",
    "            scores = [s/tie_count for s in scores]\n",
    "        cumscores = [c+s for c,s in zip(cumscores, scores)]\n",
    "    \n",
    "end = time.time()\n",
    "duration = end - start\n",
    "ncr = lambda n, r: math.factorial(n) // math.factorial(r) // math.factorial(n-r) \n",
    "combs = ncr(len(deck), 5)\n",
    "print()\n",
    "print(\"Completed {} in {} seconds\".format(combs, duration))\n",
    "print(\"{} hands / second\".format(combs / duration))\n",
    "print()\n",
    "equity =[c/sum(cumscores) for c in cumscores]\n",
    "\n",
    "equities = [(pok.gethand(sorted(p, reverse=True)), c) for\n",
    "                p, c in zip(pockets, equity)]\n",
    "display(sorted(equities, key = lambda t: t[1], reverse=True))"
   ]
  },
  {
   "cell_type": "code",
   "execution_count": null,
   "metadata": {},
   "outputs": [],
   "source": []
  }
 ],
 "metadata": {
  "kernelspec": {
   "display_name": "PyPy3",
   "language": "python",
   "name": "pypy3"
  },
  "language_info": {
   "codemirror_mode": {
    "name": "ipython",
    "version": 3
   },
   "file_extension": ".py",
   "mimetype": "text/x-python",
   "name": "python",
   "nbconvert_exporter": "python",
   "pygments_lexer": "ipython3",
   "version": "3.6.9"
  }
 },
 "nbformat": 4,
 "nbformat_minor": 4
}
