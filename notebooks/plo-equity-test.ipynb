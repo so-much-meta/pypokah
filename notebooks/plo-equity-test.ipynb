{
 "cells": [
  {
   "cell_type": "markdown",
   "metadata": {},
   "source": [
    "### PLO equities example"
   ]
  },
  {
   "cell_type": "code",
   "execution_count": 130,
   "metadata": {},
   "outputs": [
    {
     "name": "stdout",
     "output_type": "stream",
     "text": [
      "Loading...\n",
      "Done loading\n",
      "\n",
      "Completed 4368 in 0.1048579216003418 seconds\n",
      "374907.2974174977 board-pocket evals / second\n",
      "9.536713914771513 preflops / second\n",
      "85.83042523294361 preflop pocket equities / second\n",
      "\n"
     ]
    },
    {
     "data": {
      "text/plain": [
       "[('Ks Kh 9d 8d', 0.323870573870574),\n",
       " ('Jc 6c 5s 4s', 0.22733516483516483),\n",
       " ('Ad Jd 9h 5d', 0.12355006105006092),\n",
       " ('Ac 8h 7h 4c', 0.09798534798534798),\n",
       " ('Qd Td 6s 2h', 0.09684065934065934),\n",
       " ('Qc Ts 4h 2c', 0.07234432234432235),\n",
       " ('9s 7d 5c 3h', 0.05486874236874237),\n",
       " ('Qh 7c 4d 3d', 0.0018315018315018315),\n",
       " ('As 6h 5h 3c', 0.0013736263736263737)]"
      ]
     },
     "metadata": {},
     "output_type": "display_data"
    },
    {
     "name": "stdout",
     "output_type": "stream",
     "text": [
      "\n",
      "=============\n",
      "\n",
      "Completed 4368 in 0.040682077407836914 seconds\n",
      "966322.3341792034 board-pocket evals / second\n",
      "24.580848956532442 preflops / second\n",
      "221.22764060879197 preflop pocket equities / second\n",
      "\n"
     ]
    },
    {
     "data": {
      "text/plain": [
       "[('Kh Qh Qd 7c', 0.29269688644688646),\n",
       " ('As Ac Ks Kd', 0.1654456654456654),\n",
       " ('Ad Ts 5d 4d', 0.11851343101343104),\n",
       " ('Jc 8s 7d 3d', 0.09478021978021978),\n",
       " ('Qc 9s 3s 2c', 0.08848443223443224),\n",
       " ('8c 6h 4c 2s', 0.08115842490842487),\n",
       " ('9d 9c 5h 3h', 0.0625),\n",
       " ('Ah Js 7s 6c', 0.052579365079365115),\n",
       " ('Td 6s 4s 4h', 0.04384157509157511)]"
      ]
     },
     "metadata": {},
     "output_type": "display_data"
    },
    {
     "name": "stdout",
     "output_type": "stream",
     "text": [
      "\n",
      "=============\n",
      "\n",
      "Completed 4368 in 0.03105306625366211 seconds\n",
      "1265961.940082613 board-pocket evals / second\n",
      "32.20293905379052 preflops / second\n",
      "289.82645148411467 preflop pocket equities / second\n",
      "\n"
     ]
    },
    {
     "data": {
      "text/plain": [
       "[('Ks Tc 8d 8c', 0.20467032967032966),\n",
       " ('Ts 9h 7c 4s', 0.191735347985348),\n",
       " ('Jh Jc 6s 2s', 0.13003663003663005),\n",
       " ('Kc 5c 4c 2h', 0.12889194139194138),\n",
       " ('Ad Qh 7h 3c', 0.11847527472527472),\n",
       " ('Qd 6h 6d 4d', 0.09432234432234432),\n",
       " ('As Qc Jd Td', 0.07165750915750915),\n",
       " ('Ah 9d 3s 2c', 0.06021062271062271),\n",
       " ('Kh Kd 7s 7d', 0.0)]"
      ]
     },
     "metadata": {},
     "output_type": "display_data"
    },
    {
     "name": "stdout",
     "output_type": "stream",
     "text": [
      "\n",
      "=============\n",
      "\n",
      "Completed 4368 in 0.03579902648925781 seconds\n",
      "1098130.4201609036 board-pocket evals / second\n",
      "27.93372049656348 preflops / second\n",
      "251.40348446907134 preflop pocket equities / second\n",
      "\n"
     ]
    },
    {
     "data": {
      "text/plain": [
       "[('Qd Qc Ts 6c', 0.26177121489621497),\n",
       " ('Ac Tc 5c 3s', 0.18954136141636146),\n",
       " ('Jd Jc 3d 3c', 0.17124542124542125),\n",
       " ('Kh Jh Td 8h', 0.12154685592185589),\n",
       " ('7s 7c 4s 3h', 0.10851648351648352),\n",
       " ('9s 8s 8d 8c', 0.08768315018315018),\n",
       " ('Ad Qh 9h 5s', 0.04366987179487179),\n",
       " ('Kc 9c 5h 4d', 0.013736263736263736),\n",
       " ('Ks 9d 7h 5d', 0.0022893772893772895)]"
      ]
     },
     "metadata": {},
     "output_type": "display_data"
    },
    {
     "name": "stdout",
     "output_type": "stream",
     "text": [
      "\n",
      "=============\n",
      "\n",
      "Completed 4368 in 0.029889822006225586 seconds\n",
      "1315230.3145803919 board-pocket evals / second\n",
      "33.45620458334331 preflops / second\n",
      "301.1058412500897 preflop pocket equities / second\n",
      "\n"
     ]
    },
    {
     "data": {
      "text/plain": [
       "[('Ad 9h 3c 2h', 0.28365384615384615),\n",
       " ('Qc Jh Td 7h', 0.2129120879120879),\n",
       " ('Js Jc 9d 5s', 0.15476190476190477),\n",
       " ('Kd Th 7d 6d', 0.11481227106227106),\n",
       " ('Ks 5c 4d 2s', 0.10302197802197802),\n",
       " ('8c 4h 4c 2d', 0.07898351648351648),\n",
       " ('Qh 8d 7s 2c', 0.04750457875457875),\n",
       " ('Qs 6c 4s 3s', 0.00434981684981685),\n",
       " ('Qd 6h 5h 5d', 0.0)]"
      ]
     },
     "metadata": {},
     "output_type": "display_data"
    },
    {
     "name": "stdout",
     "output_type": "stream",
     "text": [
      "\n",
      "=============\n",
      "\n",
      "Completed 4368 in 0.034837961196899414 seconds\n",
      "1128424.2432504569 board-pocket evals / second\n",
      "28.704320392003886 preflops / second\n",
      "258.338883528035 preflop pocket equities / second\n",
      "\n"
     ]
    },
    {
     "data": {
      "text/plain": [
       "[('Qc Tc 4s 3c', 0.43990384615384615),\n",
       " ('Ah Kd 9h 8c', 0.1636904761904762),\n",
       " ('8d 6d 6c 5h', 0.16346153846153846),\n",
       " ('Qs Jh 5d 3s', 0.11412545787545779),\n",
       " ('Ks 5s 2s 2h', 0.08218864468864469),\n",
       " ('Jd 9c 7h 3h', 0.013163919413919426),\n",
       " ('Js Jc 9d 7s', 0.013163919413919426),\n",
       " ('Ad 6s 6h 2c', 0.010302197802197802),\n",
       " ('8s 8h 7c 5c', 0.0)]"
      ]
     },
     "metadata": {},
     "output_type": "display_data"
    },
    {
     "name": "stdout",
     "output_type": "stream",
     "text": [
      "\n",
      "=============\n",
      "\n",
      "Completed 4368 in 0.042044878005981445 seconds\n",
      "935000.9291121583 board-pocket evals / second\n",
      "23.784109918400446 preflops / second\n",
      "214.056989265604 preflop pocket equities / second\n",
      "\n"
     ]
    },
    {
     "data": {
      "text/plain": [
       "[('Ks Kh 8h 3s', 0.4690934065934066),\n",
       " ('Kc Jc 5d 4d', 0.20432692307692307),\n",
       " ('Qh 7c 6h 2h', 0.10096153846153845),\n",
       " ('Ad Jh 4c 2c', 0.0889423076923077),\n",
       " ('Ah Th 9c 7h', 0.037622100122100155),\n",
       " ('Ts 6s 3d 2d', 0.03319597069597073),\n",
       " ('Tc 9d 6d 3c', 0.03178418803418797),\n",
       " ('As Td 9h 6c', 0.02468711843711838),\n",
       " ('Qs Qd Qc 7d', 0.009386446886446886)]"
      ]
     },
     "metadata": {},
     "output_type": "display_data"
    },
    {
     "name": "stdout",
     "output_type": "stream",
     "text": [
      "\n",
      "=============\n",
      "\n",
      "Completed 4368 in 0.042875051498413086 seconds\n",
      "916896.8578721132 board-pocket evals / second\n",
      "23.323587145709027 preflops / second\n",
      "209.91228431138123 preflop pocket equities / second\n",
      "\n"
     ]
    },
    {
     "data": {
      "text/plain": [
       "[('As Jc 9h 4h', 0.21508699633699635),\n",
       " ('Kd Th 8d 6s', 0.14755036630036633),\n",
       " ('Kc 5d 3s 3c', 0.14308608058608058),\n",
       " ('Ad 9s 8s 3h', 0.14033882783882784),\n",
       " ('Ks Qs Js 2d', 0.11637667887667878),\n",
       " ('Qh 6d 6c 2h', 0.09180402930402931),\n",
       " ('Kh Jd 7h 5h', 0.08066239316239308),\n",
       " ('Qc Tc 7c 3d', 0.042391636141636144),\n",
       " ('Ac Td 7s 5s', 0.022702991452991452)]"
      ]
     },
     "metadata": {},
     "output_type": "display_data"
    },
    {
     "name": "stdout",
     "output_type": "stream",
     "text": [
      "\n",
      "=============\n",
      "\n",
      "Completed 4368 in 0.034181833267211914 seconds\n",
      "1150084.5988184335 board-pocket evals / second\n",
      "29.25530623775014 preflops / second\n",
      "263.29775613975124 preflop pocket equities / second\n",
      "\n"
     ]
    },
    {
     "data": {
      "text/plain": [
       "[('Jh 5c 3s 2s', 0.18040293040293118),\n",
       " ('Ad Kd Th 9h', 0.17094017094017103),\n",
       " ('Jc Td 8d 5s', 0.14919108669108672),\n",
       " ('Ac Kc Tc 7s', 0.1356837606837606),\n",
       " ('9d 6h 6d 2c', 0.10920329670329668),\n",
       " ('Kh 4c 3d 2d', 0.09775641025641),\n",
       " ('8s 7c 3c 2h', 0.07440476190476152),\n",
       " ('Qh Qc 6s 5h', 0.046016483516483506),\n",
       " ('Qs Qd Jd 3h', 0.0364010989010989)]"
      ]
     },
     "metadata": {},
     "output_type": "display_data"
    },
    {
     "name": "stdout",
     "output_type": "stream",
     "text": [
      "\n",
      "=============\n",
      "\n",
      "Completed 4368 in 0.02868509292602539 seconds\n",
      "1370467.9326429176 board-pocket evals / second\n",
      "34.86131289791712 preflops / second\n",
      "313.75181608125405 preflop pocket equities / second\n",
      "\n"
     ]
    },
    {
     "data": {
      "text/plain": [
       "[('Ad Kc 7d 7c', 0.3056318681318681),\n",
       " ('Jh Th 9h 8d', 0.28033424908424903),\n",
       " ('Ks Qh 9d 5c', 0.21932234432234432),\n",
       " ('Js Jd 6c 4d', 0.12522893772893767),\n",
       " ('Tc 8s 5d 2s', 0.05048076923076921),\n",
       " ('8h 7s 3d 2h', 0.019001831501831493),\n",
       " ('6s 5s 4h 3s', 0.0),\n",
       " ('Kd 4c 3c 2c', 0.0),\n",
       " ('5h 4s 3h 2d', 0.0)]"
      ]
     },
     "metadata": {},
     "output_type": "display_data"
    }
   ],
   "source": [
    "import sys\n",
    "print(\"Loading...\")\n",
    "import pypokah as pok\n",
    "print(\"Done loading\")\n",
    "import time\n",
    "import itertools\n",
    "import math\n",
    "import random\n",
    "from IPython.display import display\n",
    "\n",
    "NUM_PLAYERS = 9\n",
    "NUM_PREFLOPS = 10\n",
    "\n",
    "def deal(deck, count):\n",
    "    result = deck[-count:]\n",
    "    del deck[-count:]\n",
    "    return result\n",
    "\n",
    "for cnt in range(NUM_PREFLOPS):\n",
    "    start = time.time()\n",
    "\n",
    "    deck = list(range(1,53))\n",
    "    random.shuffle(deck)\n",
    "\n",
    "    pockets = []\n",
    "    for i in range(NUM_PLAYERS):\n",
    "        pockets.append(deal(deck,4))\n",
    "\n",
    "    cumscores = [0 for _ in pockets]\n",
    "\n",
    "    for i, runout in enumerate(itertools.combinations(deck, 5)):\n",
    "        values = [pok.evalplo(runout, pocket) for pocket in pockets]\n",
    "        best = max(values)\n",
    "        scores = [v==best for v in values]\n",
    "        tie_count = sum(scores)\n",
    "        if tie_count:\n",
    "            scores = [s/tie_count for s in scores]\n",
    "        cumscores = [c+s for c,s in zip(cumscores, scores)]\n",
    "\n",
    "    end = time.time()\n",
    "    duration = end - start\n",
    "    ncr = lambda n, r: math.factorial(n) // math.factorial(r) // math.factorial(n-r) \n",
    "    combs = ncr(len(deck), 5)\n",
    "    if cnt>0:\n",
    "        print()\n",
    "        print('=============')\n",
    "    print()\n",
    "    print(\"Completed {} in {} seconds\".format(combs, duration))\n",
    "    print(\"{} board-pocket evals / second\".format(combs*len(pockets) / duration))\n",
    "    print(\"{} preflops / second\".format(1/duration))\n",
    "    print(\"{} preflop pocket equities / second\".format(len(pockets)/duration))\n",
    "\n",
    "    print()\n",
    "    equity =[c/sum(cumscores) for c in cumscores]\n",
    "\n",
    "    equities = [(pok.gethand(sorted(p, reverse=True)), c) for\n",
    "                    p, c in zip(pockets, equity)]\n",
    "    display(sorted(equities, key = lambda t: t[1], reverse=True))"
   ]
  },
  {
   "cell_type": "code",
   "execution_count": 132,
   "metadata": {},
   "outputs": [
    {
     "data": {
      "text/plain": [
       "9.25925925925926"
      ]
     },
     "execution_count": 132,
     "metadata": {},
     "output_type": "execute_result"
    }
   ],
   "source": [
    "1000000 / 30 / 60 / 60"
   ]
  },
  {
   "cell_type": "code",
   "execution_count": null,
   "metadata": {},
   "outputs": [],
   "source": []
  }
 ],
 "metadata": {
  "kernelspec": {
   "display_name": "PyPy3",
   "language": "python",
   "name": "pypy3"
  },
  "language_info": {
   "codemirror_mode": {
    "name": "ipython",
    "version": 3
   },
   "file_extension": ".py",
   "mimetype": "text/x-python",
   "name": "python",
   "nbconvert_exporter": "python",
   "pygments_lexer": "ipython3",
   "version": "3.6.9"
  }
 },
 "nbformat": 4,
 "nbformat_minor": 4
}
